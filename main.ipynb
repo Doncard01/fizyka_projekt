{
 "cells": [
  {
   "cell_type": "markdown",
   "id": "192c2ab1",
   "metadata": {},
   "source": [
    "<h1 style=\"font-size:3rem;color:orange;\">Działo Newtona</h1>"
   ]
  },
  {
   "cell_type": "markdown",
   "id": "2fb4f081",
   "metadata": {},
   "source": [
    "# Tomasz Wróbel, Adam Staciwa"
   ]
  },
  {
   "cell_type": "code",
   "execution_count": 3,
   "id": "c1cb143b",
   "metadata": {},
   "outputs": [
    {
     "name": "stdout",
     "output_type": "stream",
     "text": [
      "What's your name?Bob\n",
      "Hello Bob!\n"
     ]
    }
   ],
   "source": [
    "person = input(\"What's your name?\")\n",
    "print (f\"Hello {person}!\")"
   ]
  }
 ],
 "metadata": {
  "kernelspec": {
   "display_name": "Python 3 (ipykernel)",
   "language": "python",
   "name": "python3"
  },
  "language_info": {
   "codemirror_mode": {
    "name": "ipython",
    "version": 3
   },
   "file_extension": ".py",
   "mimetype": "text/x-python",
   "name": "python",
   "nbconvert_exporter": "python",
   "pygments_lexer": "ipython3",
   "version": "3.9.7"
  }
 },
 "nbformat": 4,
 "nbformat_minor": 5
}
