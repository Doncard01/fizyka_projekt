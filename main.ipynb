{
 "cells": [
  {
   "cell_type": "markdown",
   "id": "192c2ab1",
   "metadata": {},
   "source": [
    "<h1 style=\"font-size:3rem;color:orange;\">Działo Newtona</h1>"
   ]
  },
  {
   "cell_type": "markdown",
   "id": "2fb4f081",
   "metadata": {},
   "source": [
    "# Tomasz Wróbel, Adam Staciwa"
   ]
  },
  {
   "cell_type": "code",
   "execution_count": 15,
   "id": "9e9adbe2",
   "metadata": {},
   "outputs": [
    {
     "name": "stdout",
     "output_type": "stream",
     "text": [
      "Final Theta =  0.5138865298856674  rad\n"
     ]
    },
    {
     "data": {
      "application/vnd.jupyter.widget-view+json": {
       "model_id": "cc7dcb9c31c34224897a015bdea2a8fd",
       "version_major": 2,
       "version_minor": 0
      },
      "text/plain": [
       "VBox(children=(Button(description='Wystrzel kulę', style=ButtonStyle()), Output()))"
      ]
     },
     "metadata": {},
     "output_type": "display_data"
    }
   ],
   "source": [
    "import ipywidgets as widgets\n",
    "import vpython as vp\n",
    "\n",
    "vp.scene.userzoom=False\n",
    "#######\n",
    "#set the launch velocity (change this)\n",
    "v0=6000\n",
    "#######\n",
    "\n",
    "Me = 5.972e24 #kg\n",
    "Re=6.371e6 #m\n",
    "G=6.67e-11\n",
    "\n",
    "vp.box()\n",
    "earth=vp.sphere(pos=vp.vector(0,0,0), radius=Re, texture=vp.textures.earth)\n",
    "mtnewton=vp.pyramid(pos=Re*vp.norm(vp.vector(.143,1.18,0)), size=vp.vector(.19*Re,.19*Re,.486*Re),axis=vp.norm(vp.vector(.143,1.18,0)))\n",
    "\n",
    "balla=vp.sphere(pos=Re*vp.vector(.143,1.18,0),radius=Re/20, color=vp.color.yellow, make_trail=True)\n",
    "\n",
    "balla.v=v0*vp.norm(vp.cross(balla.pos,vp.vector(0,0,1)))\n",
    "m=1\n",
    "balla.p=m*balla.v\n",
    "\n",
    "vp.scene.camera.pos=vp.scene.camera.pos+vp.vector(0,3e6,0)\n",
    "\n",
    "\n",
    "t=0\n",
    "dt=1\n",
    "while vp.mag(balla.pos)>Re:\n",
    "  vp.rate(1000)\n",
    "  ra=balla.pos-earth.pos\n",
    "  Fa=-G*Me*m*ra/vp.mag(ra)**3\n",
    "  balla.p=balla.p+Fa*dt\n",
    "  balla.pos=balla.pos+balla.p*dt/m\n",
    "  theta=vp.atan(ra.y/ra.x)\n",
    "  \n",
    "  t=t+dt\n",
    "print(\"Final Theta = \",theta,\" rad\")\n",
    "\n",
    "button = widgets.Button(description='Wystrzel kulę')\n",
    "out = widgets.Output()\n",
    "def on_button_clicked(_):\n",
    "      # \"linking function with output\"\n",
    "      with out:\n",
    "          # what happens when we press the button\n",
    "          print('Something happens!')\n",
    "# linking button and function together using a button's method\n",
    "button.on_click(on_button_clicked)\n",
    "# displaying button and its output together\n",
    "widgets.VBox([button,out])\n",
    "\n",
    "\n"
   ]
  },
  {
   "cell_type": "code",
   "execution_count": null,
   "id": "87d19a90",
   "metadata": {},
   "outputs": [],
   "source": []
  }
 ],
 "metadata": {
  "kernelspec": {
   "display_name": "Python 3 (ipykernel)",
   "language": "python",
   "name": "python3"
  },
  "language_info": {
   "codemirror_mode": {
    "name": "ipython",
    "version": 3
   },
   "file_extension": ".py",
   "mimetype": "text/x-python",
   "name": "python",
   "nbconvert_exporter": "python",
   "pygments_lexer": "ipython3",
   "version": "3.9.7"
  }
 },
 "nbformat": 4,
 "nbformat_minor": 5
}
