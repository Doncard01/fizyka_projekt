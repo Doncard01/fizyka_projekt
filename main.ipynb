{
 "cells": [
  {
   "cell_type": "markdown",
   "id": "192c2ab1",
   "metadata": {},
   "source": [
    "<h1 style=\"font-size:3rem;color:orange;\">Działo Newtona</h1>"
   ]
  },
  {
   "cell_type": "markdown",
   "id": "2fb4f081",
   "metadata": {},
   "source": [
    "# Tomasz Wróbel, Adam Staciwa"
   ]
  },
  {
   "cell_type": "code",
   "execution_count": 1,
   "id": "9e9adbe2",
   "metadata": {},
   "outputs": [
    {
     "data": {
      "text/html": [
       "<div id=\"glowscript\" class=\"glowscript\"></div>"
      ],
      "text/plain": [
       "<IPython.core.display.HTML object>"
      ]
     },
     "metadata": {},
     "output_type": "display_data"
    },
    {
     "data": {
      "application/javascript": [
       "if (typeof Jupyter !== \"undefined\") { window.__context = { glowscript_container: $(\"#glowscript\").removeAttr(\"id\")};}else{ element.textContent = ' ';}"
      ],
      "text/plain": [
       "<IPython.core.display.Javascript object>"
      ]
     },
     "metadata": {},
     "output_type": "display_data"
    },
    {
     "data": {
      "application/javascript": [
       "if (typeof Jupyter !== \"undefined\") {require.undef(\"nbextensions/vpython_libraries/glow.min\");}else{element.textContent = ' ';}"
      ],
      "text/plain": [
       "<IPython.core.display.Javascript object>"
      ]
     },
     "metadata": {},
     "output_type": "display_data"
    },
    {
     "data": {
      "application/javascript": [
       "if (typeof Jupyter !== \"undefined\") {require.undef(\"nbextensions/vpython_libraries/glowcomm\");}else{element.textContent = ' ';}"
      ],
      "text/plain": [
       "<IPython.core.display.Javascript object>"
      ]
     },
     "metadata": {},
     "output_type": "display_data"
    },
    {
     "data": {
      "application/javascript": [
       "if (typeof Jupyter !== \"undefined\") {require.undef(\"nbextensions/vpython_libraries/jquery-ui.custom.min\");}else{element.textContent = ' ';}"
      ],
      "text/plain": [
       "<IPython.core.display.Javascript object>"
      ]
     },
     "metadata": {},
     "output_type": "display_data"
    },
    {
     "data": {
      "application/javascript": [
       "if (typeof Jupyter !== \"undefined\") {require([\"nbextensions/vpython_libraries/glow.min\"], function(){console.log(\"GLOW LOADED\");});}else{element.textContent = ' ';}"
      ],
      "text/plain": [
       "<IPython.core.display.Javascript object>"
      ]
     },
     "metadata": {},
     "output_type": "display_data"
    },
    {
     "data": {
      "application/javascript": [
       "if (typeof Jupyter !== \"undefined\") {require([\"nbextensions/vpython_libraries/glowcomm\"], function(){console.log(\"GLOWCOMM LOADED\");});}else{element.textContent = ' ';}"
      ],
      "text/plain": [
       "<IPython.core.display.Javascript object>"
      ]
     },
     "metadata": {},
     "output_type": "display_data"
    },
    {
     "data": {
      "application/javascript": [
       "if (typeof Jupyter !== \"undefined\") {require([\"nbextensions/vpython_libraries/jquery-ui.custom.min\"], function(){console.log(\"JQUERY LOADED\");});}else{element.textContent = ' ';}"
      ],
      "text/plain": [
       "<IPython.core.display.Javascript object>"
      ]
     },
     "metadata": {},
     "output_type": "display_data"
    },
    {
     "name": "stdout",
     "output_type": "stream",
     "text": [
      "Final Theta =  0.5138865298856674  rad\n"
     ]
    }
   ],
   "source": [
    "import vpython as vp\n",
    "\n",
    "vp.scene.userzoom=False\n",
    "#######\n",
    "#set the launch velocity (change this)\n",
    "v0=6000\n",
    "#######\n",
    "\n",
    "Me = 5.972e24 #kg\n",
    "Re=6.371e6 #m\n",
    "G=6.67e-11\n",
    "\n",
    "\n",
    "earth=vp.sphere(pos=vp.vector(0,0,0), radius=Re, texture=vp.textures.earth)\n",
    "mtnewton=vp.pyramid(pos=Re*vp.norm(vp.vector(.143,1.18,0)), size=vp.vector(.19*Re,.19*Re,.486*Re),axis=vp.norm(vp.vector(.143,1.18,0)))\n",
    "\n",
    "balla=vp.sphere(pos=Re*vp.vector(.143,1.18,0),radius=Re/20, color=vp.color.yellow, make_trail=True)\n",
    "\n",
    "balla.v=v0*vp.norm(vp.cross(balla.pos,vp.vector(0,0,1)))\n",
    "m=1\n",
    "balla.p=m*balla.v\n",
    "\n",
    "vp.scene.camera.pos=vp.scene.camera.pos+vp.vector(0,3e6,0)\n",
    "\n",
    "\n",
    "t=0\n",
    "dt=1\n",
    "while vp.mag(balla.pos)>Re:\n",
    "  vp.rate(1000)\n",
    "  ra=balla.pos-earth.pos\n",
    "  Fa=-G*Me*m*ra/vp.mag(ra)**3\n",
    "  balla.p=balla.p+Fa*dt\n",
    "  balla.pos=balla.pos+balla.p*dt/m\n",
    "  theta=vp.atan(ra.y/ra.x)\n",
    "  \n",
    "  t=t+dt\n",
    "print(\"Final Theta = \",theta,\" rad\")\n",
    "\n",
    "\n",
    "\n"
   ]
  },
  {
   "cell_type": "code",
   "execution_count": null,
   "id": "f043faf6",
   "metadata": {},
   "outputs": [],
   "source": []
  },
  {
   "cell_type": "code",
   "execution_count": null,
   "id": "8363a467",
   "metadata": {},
   "outputs": [],
   "source": []
  }
 ],
 "metadata": {
  "kernelspec": {
   "display_name": "Python 3 (ipykernel)",
   "language": "python",
   "name": "python3"
  },
  "language_info": {
   "codemirror_mode": {
    "name": "ipython",
    "version": 3
   },
   "file_extension": ".py",
   "mimetype": "text/x-python",
   "name": "python",
   "nbconvert_exporter": "python",
   "pygments_lexer": "ipython3",
   "version": "3.9.7"
  }
 },
 "nbformat": 4,
 "nbformat_minor": 5
}
